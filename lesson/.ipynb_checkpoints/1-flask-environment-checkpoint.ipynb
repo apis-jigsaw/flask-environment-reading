{
 "cells": [
  {
   "cell_type": "markdown",
   "id": "0d2789f3-ac7b-4ed0-bd69-b2b534c56a8a",
   "metadata": {},
   "source": [
    "# Flask Environment "
   ]
  },
  {
   "cell_type": "markdown",
   "id": "63478f19-3798-43bb-a5b5-0f46a44f7cda",
   "metadata": {},
   "source": [
    "### Introduction"
   ]
  },
  {
   "cell_type": "markdown",
   "id": "918a2529-7839-44a2-9e12-ea4af8f1125d",
   "metadata": {},
   "source": [
    "In this lesson, we'll talk through how to properly structure our Flask environment.  "
   ]
  },
  {
   "cell_type": "markdown",
   "id": "17512ce9-afee-41b4-95ac-5e9ac6511ecb",
   "metadata": {},
   "source": [
    "### Configuring Flask"
   ]
  },
  {
   "cell_type": "markdown",
   "id": "5898ab2d-bc9a-4ea1-bac3-64ffa2a527fd",
   "metadata": {},
   "source": [
    "Currently, we may have not really used a structured way to configure our flask application.  For example, we may be hard coding information about our database directly into our codebase."
   ]
  },
  {
   "cell_type": "markdown",
   "id": "7f81e13c-ecd7-4a8f-832e-6290a73d3a81",
   "metadata": {},
   "source": [
    "```python\n",
    "app = Flask(__name__)\n",
    "\n",
    "@app.route('/movies')\n",
    "def movies():\n",
    "    conn = sqlite3.connect('films.db') # bad!\n",
    "    cursor = conn.cursor()\n",
    "```"
   ]
  },
  {
   "cell_type": "markdown",
   "id": "2db25551-505d-42cb-8f8a-2c34092fc113",
   "metadata": {},
   "source": [
    "And if we were using psycopg2, it would look something like the following:"
   ]
  },
  {
   "cell_type": "markdown",
   "id": "d7400697-8d23-4cf2-a3aa-a907892cf977",
   "metadata": {},
   "source": [
    "```python\n",
    "app = Flask(__name__)\n",
    "\n",
    "@app.route('/movies')\n",
    "def movies():\n",
    "    conn = psycopg2.connect(database=\"test\", user='postgres', password='secret')\n",
    "    cursor = conn.cursor()\n",
    "    cursor.execute('select * from movies;')\n",
    "    cursor.fetchall()\n",
    "```"
   ]
  },
  {
   "cell_type": "markdown",
   "id": "b3d30bdb-4e07-43ae-acd9-d0531040982f",
   "metadata": {},
   "source": [
    "There are a couple of issues with hardcoding information like this directly.  \n",
    "\n",
    "1. **Sensitive information**.  The first is that some of this information, like the password maybe sensitive information, that we may not like sprinkled throughout the codebase.\n",
    "\n",
    "2. **Want Configuration Changable**.  The second is that we want it to be convenient to change between environments, and change between databases.  For example, we generally have a separate database when we boot up our application locally on our laptop, called `development`, and a separate database when we run our tests, called `testing`.  Finally, we'll have a separate database when we deploy our application, called `production`.  So we want it to be fairly simple to switch between these environmental variables."
   ]
  },
  {
   "cell_type": "markdown",
   "id": "de3f48bd-90fc-4da9-8258-4b2fff9ea3b7",
   "metadata": {},
   "source": [
    "### How we do it"
   ]
  },
  {
   "cell_type": "markdown",
   "id": "84878f39-6f8c-479c-b35c-dd400a21aa38",
   "metadata": {},
   "source": [
    "There are a couple of steps making this information more configurable.  The first is to code these key values pairs in a file called `.env`.  For example, we can specify the location of the database, `films.db`, like this."
   ]
  },
  {
   "cell_type": "markdown",
   "id": "f57ff9b4-680d-4b97-911c-24ca3485de1e",
   "metadata": {},
   "source": [
    "```yaml\n",
    "# .env\n",
    "DATABASE= films.db\n",
    "```"
   ]
  },
  {
   "cell_type": "markdown",
   "id": "195c46ee-35be-450f-a873-a20f3ceceb15",
   "metadata": {},
   "source": [
    "Next, we can use the `dot_env` Python library to load these variables.\n",
    "\n",
    "> The `dot_env` library is already specified in the `requirements.txt` file, so if we just run `pip3 install -r requirements.txt`, we can begin to use it."
   ]
  },
  {
   "cell_type": "markdown",
   "id": "e7591fa8-0f68-4f70-8370-a01591fe52fc",
   "metadata": {},
   "source": [
    "Next, once, the `dot_env` library is installed, we access the variables in the `.env` file from `settings.py` like so:"
   ]
  },
  {
   "cell_type": "markdown",
   "id": "85dc49bd-9e6e-425b-bf34-abe0cd930a39",
   "metadata": {},
   "source": [
    "```python\n",
    "# settings.py\n",
    "import os\n",
    "from dotenv import load_dotenv\n",
    "\n",
    "load_dotenv()\n",
    "\n",
    "DB_NAME = os.getenv(\"DATABASE\")\n",
    "```"
   ]
  },
  {
   "cell_type": "markdown",
   "id": "94038c71-158a-4625-832c-b2f8b6c86c45",
   "metadata": {},
   "source": [
    "So above, we import the `load_dotenv` function from the `dotenv` library.  This reads the information from the `.env` file in the codebase.  And now we can treat variables specified in the `.env` file, as if they were enviromental variables.\n",
    "\n",
    "From there, we can read the `DATABASE` variable with `os.getenv(\"DATABASE\")`, and assign it to the constant DB_NAME.  \n",
    "\n",
    "> If you run `settings.py` in interactive mode, and inspect `DB_NAME`, you can see this."
   ]
  },
  {
   "cell_type": "markdown",
   "id": "fa5cf616-cd78-401c-ac41-e71bbbf89033",
   "metadata": {},
   "source": [
    "<img src=\"./settings-file.png\" width=\"70%\">"
   ]
  },
  {
   "cell_type": "markdown",
   "id": "694dfc71-71df-4d2e-ada7-e951c5739770",
   "metadata": {},
   "source": [
    "### Connecting to our Application"
   ]
  },
  {
   "cell_type": "markdown",
   "id": "ef9269e0-54e5-46e9-b61d-03a438ad2f5a",
   "metadata": {},
   "source": [
    "So now that we've loaded configuration from our `.env` file into `settings.py`, the next step is to connect this configuration to our flask app.  We can do so with something like the following."
   ]
  },
  {
   "cell_type": "markdown",
   "id": "264b2098-e36c-4b25-a73c-c61f454cadc9",
   "metadata": {},
   "source": [
    "```python\n",
    "from flask import Flask\n",
    "import sqlite3\n",
    "from settings import DB_NAME\n",
    "import psycopg2\n",
    "app = Flask(__name__)\n",
    "\n",
    "app.config.from_mapping(\n",
    "    DATABASE= DB_NAME\n",
    ")\n",
    "\n",
    "@app.route('/movies')\n",
    "def movies():\n",
    "    conn = sqlite3.connect(app.config['DATABASE'])\n",
    "    cursor = conn.cursor()\n",
    "    cursor.execute('select * from movies;')\n",
    "    cursor.fetchall()\n",
    "```"
   ]
  },
  {
   "cell_type": "markdown",
   "id": "71c3b418-2639-4c08-98d3-904467bb09db",
   "metadata": {},
   "source": [
    "Take a look at the above lines of code.  As we can see, we're importaing DB_NAME from the `settings` module.  Then we are setting the `DATABASE` key to the `DB_NAME` we just imported.\n",
    "\n",
    "Now our app has the `DATABASE` key stored.  And then we reference that database key in the top line of the `/movies`.  That `app.config['DATABASE']` returns the `movies.db` string."
   ]
  },
  {
   "cell_type": "markdown",
   "id": "9ba75369-f61a-416a-b4f0-f830e3c27a70",
   "metadata": {},
   "source": [
    "Finally, we can kick off our application by running `python3 run.py`.  And when we do, we can see that our application retrieves records from our database."
   ]
  },
  {
   "cell_type": "markdown",
   "id": "8a0cbb48-3709-45ae-8690-e6e4dcf04477",
   "metadata": {},
   "source": [
    "<img src=\"./movies.png\" width=\"70%\">"
   ]
  },
  {
   "cell_type": "markdown",
   "id": "0e65fe83-5888-4a3e-8af2-2b119f357eb7",
   "metadata": {},
   "source": [
    "### Summary"
   ]
  },
  {
   "cell_type": "markdown",
   "id": "746fbf1f-6e13-4a29-8fb9-076558c0ae64",
   "metadata": {},
   "source": [
    "In this lesson, we saw how to configure our flask application."
   ]
  }
 ],
 "metadata": {
  "kernelspec": {
   "display_name": "Python 3 (ipykernel)",
   "language": "python",
   "name": "python3"
  },
  "language_info": {
   "codemirror_mode": {
    "name": "ipython",
    "version": 3
   },
   "file_extension": ".py",
   "mimetype": "text/x-python",
   "name": "python",
   "nbconvert_exporter": "python",
   "pygments_lexer": "ipython3",
   "version": "3.9.7"
  }
 },
 "nbformat": 4,
 "nbformat_minor": 5
}
